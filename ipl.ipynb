{
 "cells": [
  {
   "cell_type": "code",
   "execution_count": 1,
   "id": "668ba633-0dcc-42af-a3fe-81c5e5057d1d",
   "metadata": {},
   "outputs": [],
   "source": [
    "import pandas as pd\n",
    "import matplotlib.pyplot as plt\n",
    "import os"
   ]
  },
  {
   "cell_type": "code",
   "execution_count": 34,
   "id": "698db2a4-d53e-435d-9cf1-0d189122885c",
   "metadata": {},
   "outputs": [],
   "source": [
    "file_path = r'C:\\Users\\Admin\\Desktop\\ipl_data.csv'"
   ]
  },
  {
   "cell_type": "code",
   "execution_count": 35,
   "id": "e8a49ea6-25cf-4196-9775-24ccbdd221fb",
   "metadata": {},
   "outputs": [],
   "source": [
    "ipl_df = pd.read_csv(file_path)"
   ]
  },
  {
   "cell_type": "code",
   "execution_count": 36,
   "id": "b2c727e3-753a-4109-8a89-0cff129a2611",
   "metadata": {},
   "outputs": [
    {
     "name": "stdout",
     "output_type": "stream",
     "text": [
      "   match_id  inning           batting_team                 bowling_team  over  \\\n",
      "0    335982       1  Kolkata Knight Riders  Royal Challengers Bangalore     0   \n",
      "1    335982       1  Kolkata Knight Riders  Royal Challengers Bangalore     0   \n",
      "2    335982       1  Kolkata Knight Riders  Royal Challengers Bangalore     0   \n",
      "3    335982       1  Kolkata Knight Riders  Royal Challengers Bangalore     0   \n",
      "4    335982       1  Kolkata Knight Riders  Royal Challengers Bangalore     0   \n",
      "\n",
      "   ball       batter   bowler  non_striker  batsman_runs  extra_runs  \\\n",
      "0     1   SC Ganguly  P Kumar  BB McCullum             0           1   \n",
      "1     2  BB McCullum  P Kumar   SC Ganguly             0           0   \n",
      "2     3  BB McCullum  P Kumar   SC Ganguly             0           1   \n",
      "3     4  BB McCullum  P Kumar   SC Ganguly             0           0   \n",
      "4     5  BB McCullum  P Kumar   SC Ganguly             0           0   \n",
      "\n",
      "   total_runs extras_type  is_wicket player_dismissed dismissal_kind fielder  \n",
      "0           1     legbyes          0              NaN            NaN     NaN  \n",
      "1           0         NaN          0              NaN            NaN     NaN  \n",
      "2           1       wides          0              NaN            NaN     NaN  \n",
      "3           0         NaN          0              NaN            NaN     NaN  \n",
      "4           0         NaN          0              NaN            NaN     NaN  \n"
     ]
    }
   ],
   "source": [
    "print(ipl_df.head())"
   ]
  },
  {
   "cell_type": "code",
   "execution_count": 37,
   "id": "46de8b06-3d49-4082-ae57-23f44a410046",
   "metadata": {},
   "outputs": [],
   "source": [
    "top_scorers_df = ipl_df[ipl_df['batsman_runs'] > 500]"
   ]
  },
  {
   "cell_type": "code",
   "execution_count": 39,
   "id": "f4f333cd-8ca7-4c10-aa4e-af3910da8b34",
   "metadata": {},
   "outputs": [
    {
     "name": "stdout",
     "output_type": "stream",
     "text": [
      "No mode found for 'batsman_runs' column\n"
     ]
    }
   ],
   "source": [
    "top_10_scorers_df = top_scorers_df.nlargest(10, 'batsman_runs')\n",
    "mean_runs = top_10_scorers_df['batsman_runs'].mean()\n",
    "\n",
    "mode_runs = top_10_scorers_df['batsman_runs'].mode()\n",
    "if mode_runs.empty:\n",
    "    print(\"No mode found for 'batsman_runs' column\")"
   ]
  },
  {
   "cell_type": "code",
   "execution_count": 41,
   "id": "2f97fc71-06ea-4332-b33e-c9828807f16e",
   "metadata": {},
   "outputs": [
    {
     "name": "stdout",
     "output_type": "stream",
     "text": [
      "Mean runs scored by top 10 players: nan\n"
     ]
    }
   ],
   "source": [
    "print(\"Mean runs scored by top 10 players:\", mean_runs)\n"
   ]
  },
  {
   "cell_type": "code",
   "execution_count": 42,
   "id": "78ad6306-9dc3-4c17-b6f8-8feaa85b4969",
   "metadata": {},
   "outputs": [
    {
     "data": {
      "image/png": "[encoded data removed]",
      "text/plain": [
       "<Figure size 1000x600 with 1 Axes>"
      ]
     },
     "metadata": {},
     "output_type": "display_data"
    }
   ],
   "source": [
    "plt.figure(figsize=(10, 6))\n",
    "plt.bar(top_10_scorers_df['batter'], top_10_scorers_df['batsman_runs'])\n",
    "plt.xlabel('Player')\n",
    "plt.ylabel('Runs')\n",
    "plt.title('Number of Runs by Top 10 Players')\n",
    "plt.xticks(rotation=90)\n",
    "plt.tight_layout()\n",
    "plt.show()"
   ]
  },
  {
   "cell_type": "code",
   "execution_count": null,
   "id": "82732b95-1256-4a0a-b820-c29bdf800cfe",
   "metadata": {},
   "outputs": [],
   "source": []
  }
 ],
 "metadata": {
  "kernelspec": {
   "display_name": "Python 3 (ipykernel)",
   "language": "python",
   "name": "python3"
  },
  "language_info": {
   "codemirror_mode": {
    "name": "ipython",
    "version": 3
   },
   "file_extension": ".py",
   "mimetype": "text/x-python",
   "name": "python",
   "nbconvert_exporter": "python",
   "pygments_lexer": "ipython3",
   "version": "3.12.7"
  }
 },
 "nbformat": 4,
 "nbformat_minor": 5
}
