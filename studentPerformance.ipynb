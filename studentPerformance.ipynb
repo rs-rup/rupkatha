{
 "cells": [
  {
   "cell_type": "code",
   "execution_count": 1,
   "id": "d34833a2-21c0-4ce3-ae2d-88f471247910",
   "metadata": {},
   "outputs": [],
   "source": [
    "import pandas as pd\n",
    "import os"
   ]
  },
  {
   "cell_type": "code",
   "execution_count": 12,
   "id": "7e24a8eb-5a56-4348-af46-e61b11375aeb",
   "metadata": {},
   "outputs": [],
   "source": [
    "file_path = r'C:\\Users\\Admin\\Desktop\\student_performance.csv'"
   ]
  },
  {
   "cell_type": "code",
   "execution_count": 13,
   "id": "c077d1a2-7980-4083-b435-28e544934a60",
   "metadata": {},
   "outputs": [],
   "source": [
    "student_performance_df = pd.read_csv(file_path)\n"
   ]
  },
  {
   "cell_type": "code",
   "execution_count": 14,
   "id": "78cf51f6-3807-44f8-839d-71f6141291ab",
   "metadata": {},
   "outputs": [
    {
     "name": "stdout",
     "output_type": "stream",
     "text": [
      "   StudentID  G1  G2  G3      Mjob     Fjob  age address  studytime  failures  \\\n",
      "0          1   6   2   2   teacher  at_home   21   rural          3         1   \n",
      "1          2  19  11  18    health  teacher   18   rural          1         1   \n",
      "2          3  14   7  19    health    other   20   urban          1         1   \n",
      "3          4  10   2   6  services   health   21   urban          3         1   \n",
      "4          5   7   0  19    health   health   18   rural          4         1   \n",
      "\n",
      "  schoolsup famsup paid activities nursery higher internet romantic  \n",
      "0        no    yes  yes        yes     yes    yes       no      yes  \n",
      "1        no     no   no         no     yes     no       no       no  \n",
      "2       yes    yes  yes         no      no     no      yes      yes  \n",
      "3       yes     no  yes         no     yes     no       no       no  \n",
      "4        no     no  yes         no     yes    yes      yes       no  \n"
     ]
    }
   ],
   "source": [
    "print(student_performance_df.head())"
   ]
  },
  {
   "cell_type": "code",
   "execution_count": 15,
   "id": "2cd58ccd-346b-48dc-bb01-c19a546f359b",
   "metadata": {},
   "outputs": [
    {
     "name": "stdout",
     "output_type": "stream",
     "text": [
      "<class 'pandas.core.frame.DataFrame'>\n",
      "RangeIndex: 100 entries, 0 to 99\n",
      "Data columns (total 18 columns):\n",
      " #   Column      Non-Null Count  Dtype \n",
      "---  ------      --------------  ----- \n",
      " 0   StudentID   100 non-null    int64 \n",
      " 1   G1          100 non-null    int64 \n",
      " 2   G2          100 non-null    int64 \n",
      " 3   G3          100 non-null    int64 \n",
      " 4   Mjob        100 non-null    object\n",
      " 5   Fjob        100 non-null    object\n",
      " 6   age         100 non-null    int64 \n",
      " 7   address     100 non-null    object\n",
      " 8   studytime   100 non-null    int64 \n",
      " 9   failures    100 non-null    int64 \n",
      " 10  schoolsup   100 non-null    object\n",
      " 11  famsup      100 non-null    object\n",
      " 12  paid        100 non-null    object\n",
      " 13  activities  100 non-null    object\n",
      " 14  nursery     100 non-null    object\n",
      " 15  higher      100 non-null    object\n",
      " 16  internet    100 non-null    object\n",
      " 17  romantic    100 non-null    object\n",
      "dtypes: int64(7), object(11)\n",
      "memory usage: 14.2+ KB\n",
      "None\n"
     ]
    }
   ],
   "source": [
    "print(student_performance_df.info())"
   ]
  },
  {
   "cell_type": "code",
   "execution_count": 16,
   "id": "e441ab6b-405e-4813-92fd-97ec8643c0ec",
   "metadata": {},
   "outputs": [
    {
     "name": "stdout",
     "output_type": "stream",
     "text": [
      "StudentID     0\n",
      "G1            0\n",
      "G2            0\n",
      "G3            0\n",
      "Mjob          0\n",
      "Fjob          0\n",
      "age           0\n",
      "address       0\n",
      "studytime     0\n",
      "failures      0\n",
      "schoolsup     0\n",
      "famsup        0\n",
      "paid          0\n",
      "activities    0\n",
      "nursery       0\n",
      "higher        0\n",
      "internet      0\n",
      "romantic      0\n",
      "dtype: int64\n"
     ]
    }
   ],
   "source": [
    "print(student_performance_df.isnull().sum())"
   ]
  },
  {
   "cell_type": "code",
   "execution_count": null,
   "id": "542f8294-c46f-46ef-af53-739a3003347f",
   "metadata": {},
   "outputs": [],
   "source": []
  }
 ],
 "metadata": {
  "kernelspec": {
   "display_name": "Python 3 (ipykernel)",
   "language": "python",
   "name": "python3"
  },
  "language_info": {
   "codemirror_mode": {
    "name": "ipython",
    "version": 3
   },
   "file_extension": ".py",
   "mimetype": "text/x-python",
   "name": "python",
   "nbconvert_exporter": "python",
   "pygments_lexer": "ipython3",
   "version": "3.12.7"
  }
 },
 "nbformat": 4,
 "nbformat_minor": 5
}
